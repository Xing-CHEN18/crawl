{
 "cells": [
  {
   "cell_type": "code",
   "execution_count": 1,
   "metadata": {},
   "outputs": [],
   "source": [
    "import re\n",
    "import requests\n",
    "from bs4 import BeautifulSoup\n"
   ]
  },
  {
   "cell_type": "code",
   "execution_count": 2,
   "metadata": {},
   "outputs": [
    {
     "name": "stdout",
     "output_type": "stream",
     "text": [
      "Searching key word 'was born' from Albert Einstein's wiki page:\n",
      "\n",
      "['Einstein was born in the ', 'Albert Einstein was born in ', ' was born in ', ' was born in Zürich in July 1910. The couple moved to Berlin in April 1914, but Marić returned to Zürich with their sons after learning that, despite their close relationship before,']\n",
      "\n",
      "Searching key word 'died' from Albert Einstein's wiki page:\n",
      "\n",
      "['\\xa01919; died', ', and that they developed some of the concepts together during their studies, although some historians of physics who have studied the issue disagree that she made any substantive contributions.', \" where Marić was staying with her parents. Marić returned to Switzerland without the child, whose real name and fate are unknown. The contents of Einstein's letter in September 1903 suggest that the girl was either given up for adoption or died of \", ' They emigrated to the United States in 1933. Elsa was diagnosed with heart and kidney problems in 1935 and died in December 1936.', '. He also studied ', ', he stated that the idea of Ethical Culture embodied his personal conception of what is most valuable and enduring in religious idealism. He observed, \"Without \\'ethical culture\\' there is no salvation for humanity.\"', '\\'s compositions and studied music more willingly. Einstein taught himself to play without \"ever practicing systematically\". He said that \"love is a better teacher than a sense of duty.\"', ' He died in the ', '. Margot Einstein permitted the personal letters to be made available to the public, but requested that it not be done until twenty years after her death (she died in 1986']\n",
      "\n",
      "Searching key word 'was born' from Stephen Hawking's wiki page:\n",
      "\n",
      "['Hawking was born in ', 'Hawking was born on 8 January 1942', \" Hawking's mother was born into a family of doctors in \"]\n",
      "\n",
      "Searching key word 'died' from Stephen Hawking's wiki page:\n",
      "\n",
      "['. He died in 2018 at the age of 76, after living with motor neurone disease for more than 50 years.\\n', ' Hawking estimated that he studied about 1,000 hours during his three years at Oxford. These unimpressive study habits made sitting his ', 'Hawking died at his home in ', ' His family stated that he \"died peacefully\".']\n",
      "\n"
     ]
    }
   ],
   "source": [
    "\n",
    "# List of people's names\n",
    "people = [\"Albert Einstein\", \"Stephen Hawking\"]\n",
    "\n",
    "\n",
    "# Loop through the list of people\n",
    "for person in people:\n",
    "    # Get the BaiduBaike page for the person\n",
    "    url = f\"https://en.wikipedia.org/wiki/{person}\"\n",
    "    page = requests.get(url)\n",
    "    soup = BeautifulSoup(page.text, \"html.parser\")\n",
    "\n",
    "    # Scrape the specific words from the page\n",
    "    words_to_scrape = [\"was born\", \"died\"]\n",
    "    for word in words_to_scrape:\n",
    "        #word_text = soup.find(text=word)\n",
    "        word_text = soup.body.findAll(text=re.compile(word))\n",
    "        #word_text = soup.body.findAll(text=word)\n",
    "        print(\"Searching key word '\" f\"{word}\" \"' from \" f\"{person}'s wiki page:\\n\")\n",
    "        if word_text:\n",
    "            \n",
    "            print(f\"{word_text}\\n\")\n",
    "        else:\n",
    "            print(f\"{word}\" \"not found.\\n\")"
   ]
  },
  {
   "cell_type": "code",
   "execution_count": 3,
   "metadata": {},
   "outputs": [
    {
     "name": "stdout",
     "output_type": "stream",
     "text": [
      "Searching key word '总理' from 李克强's wiki page:\n",
      "\n",
      "['\\xa0\\xa0此條目介紹的是中华人民共和国国务院总理。关于中国工程院院士，请见「', '中华人民共和国国务院总理', '副总理', '总理', '国务院总理', '中华人民共和国国务院总理', '国务院副总理', '国务院总理', '总理', '国务院副总理', '国务院副总理', '国务院总理', '总理', '国务院总理', '以来第七位总理。3月25日，李克强出任', '国务院总理', '李克强就任总理后，外访的第一站为', '国务院总理记者会', '最后一年，也是他担任总理的最后一年', '召开期间卸任总理一职', '，这也是李克强最后一次以中国国务院总理身份出席东盟系列会议。', '总理记者会', '（两会受权发布）国务院总理简历', '新任总理的安徽印记——寻访李克强当年足迹(图)', '李克强与埃塞总理英语交谈 夫人教授气质获网友好评', '何清涟：总理大位纵易主 经济颓势也难挽', '最全！李克强总理记者会全文实录（划重点版）', '【两会30秒】李克强：担任总理最后一年，会和同事们用实干践行承诺-中国新闻网', '李克强：大国新总理成长史', '“李克强旧债未了，有何资格担任总理？“ - DW -15.03.2013', '（两会受权发布）李克强总理出席记者会并回答中外记者提问', '何清涟:本届中国总理不好做', '总理', '中华人民共和国国务院副总理', '中华人民共和国国务院副总理', '国务院总理', '国务院总理', '国务院副总理', '总理', '副总理', '（国务院总理）', '（国务院总理，1987年代理中央总书记）', '（国务院总理）', '（国务院副总理）', '（国务院总理）', '（国务院副总理）', '（国务院总理）', '（国务院副总理）', '（国务院总理）', '（国务院副总理）', '（国务院总理）', '（国务院副总理，2007年逝世）', '（国务院总理）', '（国务院副总理）', '（国务院总理）', '（国务院副总理）', '（国务院总理）', '（国务院副总理）', '（国务院总理）', '（国务院副总理）', '（国务院副总理）', '（国务院副总理）', '（国务院副总理，2012年兼重庆市委书记）', '国务院总理', '国务院副总理', '国务院副总理', '国务院副总理', '国务院副总理', '国务院总理', '国务院副总理', '国务院副总理', '国务院副总理', '国务院副总理', '中华人民共和国国务院总理', '副总理', '排名第一的副总理是董必武。', '注2：2006年至2008年，在黄菊病重期间及逝世后，由副总理吴仪顺位接管其工作。', '总理', '副总理', '总理', '副总理', '总理', '副总理', '总理：', '总理大臣：', '中华人民共和国国务院第一副总理', '中华人民共和国国务院副总理', '第11届国务院副总理', '中华人民共和国国务院总理']\n",
      "\n",
      "Searching key word '生于' from 李克强's wiki page:\n",
      "\n",
      "['，生于', '），1955年7月1日生于']\n",
      "\n",
      "Searching key word '总理' from 温家宝's wiki page:\n",
      "\n",
      "['中华人民共和国国务院总理', '副总理', '中华人民共和国国务院副总理', '总理', '国务院副总理', '总理', '国务院副总理', '内阁中分管农业和金融等工作。副总理任内，曾赴湖北前线指挥应对', '国务院总理', '组长等职。2008年3月，获得连任，至2013年3月兩屆总理任期屆滿後退休，由李克强繼任。温家宝在总理任内曾亲自参与组织或处置过', '第九届副总理时期', '第十届总理时期', '第十一届总理时期', '第九届副总理时期', '任职总理期间，出任主管农业和金融工作的', '国务院副总理', '，时任副总理的温家宝担任', '国务院总理', '第十届总理时期', '国务院总理', '温家宝就任总理以后，对中国经济制定、修改了大量政策，其中包括取消', '2006年，温家宝就任国务院总理期间，借“', '。应温家宝邀请，印度总理', '第十一届总理时期', '国务院总理', '后，中国政府总理十八年来的首次访问。温家宝在抵朝首日即签订多项经济援助协议。韩联社认为，这次援朝项目大约价值2,000万美元', '后卸任国务院总理退休，由', '中央一号文件起草者感受温家宝总理的三农情结', '国务院总理的2008:勇对灾难 挺起国民信心力量', '温总理映秀足迹的一年巨变', '温家宝总理与网民在线交流', 'CNN专访温家宝总理全文（简体）', '新任总理温家宝家世', '2008，温总理用行动感动着中国和世界', '中华人民共和国国务院总理', '中华人民共和国国务院副总理', '总理', '副总理', '注：仅列在同一机构的最高职务。同时，曾担任正国级职务的，除国家副主席和国务院副总理以外，其他副国级职务不再单独列出。各大机构间以官方现行机构排名为序。同一职务职数为一人的，任职者间以任职时间为序；职数为多人的，任职者间以官方媒体播报顺序为序。', '（国务院总理）', '（国务院总理，1987年代理中央总书记）', '（国务院总理）', '（国务院副总理）', '（国务院总理）', '（国务院副总理）', '（国务院总理）', '（国务院副总理）', '（国务院总理）', '（国务院副总理）', '（国务院总理）', '（国务院副总理，2007年逝世）', '（国务院总理）', '（国务院副总理）', '（国务院总理）', '（国务院副总理）', '（国务院总理）', '（国务院副总理）', '（国务院总理）', '（国务院副总理，1993年兼中国人民银行行长至1995年）', '（国务院副总理）', '（上海市委书记至1994年，1994年兼中央书记处书记，1995年兼国务院副总理）', '（国务院副总理）', '（山东省委书记至1994年，1994年兼中央书记处书记，1995年兼国务院副总理）', '（国务院副总理、外交部部长）', '（国务院总理）', '（国务院副总理）', '（国务院副总理）', '（国务院副总理）', '（中央书记处书记、国务院副总理）', '（国务院总理）', '（国务院副总理，2007年逝世）', '（国务院副总理）', '（国务院副总理，2003年兼卫生部部长至2005年）', '（国务院副总理）', '（国务院总理）', '（国务院副总理）', '（国务院副总理）', '（国务院副总理）', '（国务院副总理，2012年兼重庆市委书记）', '中华人民共和国国务院总理', '总理', '副总理', '总理', '副总理', '总理', '副总理', '中华人民共和国国务院总理', '第9届国务院副总理']\n",
      "\n",
      "Searching key word '生于' from 温家宝's wiki page:\n",
      "\n",
      "['温家宝出生于天津，曾就读于', '中期），部分学生于', '[《温家宝：我的母亲》：“妈妈名叫杨志云（曾用名杨秀安），1921 年农历 11月 14 日生于天津北郊宜兴埠。”]']\n",
      "\n"
     ]
    }
   ],
   "source": [
    "# List of people's names\n",
    "people = [\"李克强\", \"温家宝\"]\n",
    "\n",
    "\n",
    "# Loop through the list of people\n",
    "for person in people:\n",
    "    # Get the BaiduBaike page for the person\n",
    "    url = f\"https://zh.wikipedia.org/wiki/{person}\"\n",
    "    page = requests.get(url)\n",
    "    soup = BeautifulSoup(page.text, \"html.parser\")\n",
    "\n",
    "    # Scrape the specific words from the page\n",
    "    words_to_scrape = [\"总理\", \"生于\"]\n",
    "    for word in words_to_scrape:\n",
    "        #word_text = soup.find(text=word)\n",
    "        word_text = soup.body.findAll(text=re.compile(word))\n",
    "        #word_text = soup.body.findAll(text=word)\n",
    "        print(\"Searching key word '\" f\"{word}\" \"' from \" f\"{person}'s wiki page:\\n\")\n",
    "        if word_text:\n",
    "            print(f\"{word_text}\\n\")\n",
    "        else:\n",
    "            print(f\"{word}\" \"not found.\\n\")"
   ]
  },
  {
   "cell_type": "code",
   "execution_count": 8,
   "metadata": {},
   "outputs": [
    {
     "name": "stdout",
     "output_type": "stream",
     "text": [
      "Searching key word '生于' from 周杰伦's baidubaike page:\n",
      "\n",
      "生于not found.\n",
      "\n",
      "Searching key word '担任' from 周杰伦's baidubaike page:\n",
      "\n",
      "担任not found.\n",
      "\n",
      "Searching key word '生于' from 周冬雨's baidubaike page:\n",
      "\n",
      "生于not found.\n",
      "\n",
      "Searching key word '担任' from 周冬雨's baidubaike page:\n",
      "\n",
      "担任not found.\n",
      "\n"
     ]
    }
   ],
   "source": [
    "# List of people's names\n",
    "people = [\"周杰伦\", \"周冬雨\"]\n",
    "\n",
    "\n",
    "# Loop through the list of people\n",
    "for person in people:\n",
    "    # Get the BaiduBaike page for the person\n",
    "    url = f\"https://baike.baidu.com/item/{person}\"\n",
    "    page = requests.get(url)\n",
    "    soup = BeautifulSoup(page.text, \"html.parser\")\n",
    "\n",
    "    # Scrape the specific words from the page\n",
    "    words_to_scrape = [\"生于\", \"担任\"]\n",
    "    for word in words_to_scrape:\n",
    "        #word_text = soup.find(text=word)\n",
    "        word_text = soup.body.findAll(text=re.compile(word))\n",
    "        #word_text = soup.body.findAll(text=word)\n",
    "        print(\"Searching key word '\" f\"{word}\" \"' from \" f\"{person}'s baidubaike page:\\n\")\n",
    "        if word_text:\n",
    "            print(f\"{word_text}\\n\")\n",
    "        else:\n",
    "            print(f\"{word}\" \"not found.\\n\")"
   ]
  },
  {
   "cell_type": "code",
   "execution_count": null,
   "metadata": {},
   "outputs": [],
   "source": []
  }
 ],
 "metadata": {
  "kernelspec": {
   "display_name": "base",
   "language": "python",
   "name": "python3"
  },
  "language_info": {
   "codemirror_mode": {
    "name": "ipython",
    "version": 3
   },
   "file_extension": ".py",
   "mimetype": "text/x-python",
   "name": "python",
   "nbconvert_exporter": "python",
   "pygments_lexer": "ipython3",
   "version": "3.9.13"
  },
  "orig_nbformat": 4,
  "vscode": {
   "interpreter": {
    "hash": "9582af00bd1449d2f8d2b02bbbdacc74f54ebe043c023e30e08c3da548b6c1df"
   }
  }
 },
 "nbformat": 4,
 "nbformat_minor": 2
}
